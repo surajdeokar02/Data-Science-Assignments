{
 "cells": [
  {
   "cell_type": "code",
   "execution_count": 1,
   "id": "f1dfa1d2-65e9-46b4-862d-13b5302d151a",
   "metadata": {},
   "outputs": [],
   "source": [
    "import math\n",
    "from scipy.stats import norm"
   ]
  },
  {
   "cell_type": "code",
   "execution_count": 2,
   "id": "93aeaae4-e845-42dc-a4ef-2bdd5b129494",
   "metadata": {},
   "outputs": [],
   "source": [
    "# Define Hypotheses \n",
    "# H0: Actual weekly cost = Theoretical cost\n",
    "# H1: Actual weekly cost > Theoretical cost"
   ]
  },
  {
   "cell_type": "code",
   "execution_count": 3,
   "id": "a0e5356c-9f0b-477d-b085-c67fb45ea6f6",
   "metadata": {},
   "outputs": [],
   "source": [
    "# Given Data :\n",
    "sample_mean = 3050\n",
    "mean_x = 600\n",
    "std_x = 25\n",
    "theoretical_mean = 1000 + 5 * mean_x  # W = 1000 + 5X\n",
    "std_dev = 5 * std_x  # σ = 125\n",
    "n = 25"
   ]
  },
  {
   "cell_type": "code",
   "execution_count": 4,
   "id": "75c58b71-bca4-488e-9ce5-7b3839310adb",
   "metadata": {},
   "outputs": [
    {
     "name": "stdout",
     "output_type": "stream",
     "text": [
      "Test Statistic (Z): -38.00\n"
     ]
    }
   ],
   "source": [
    "# Calculate Test Statistic (Z)\n",
    "standard_error = std_dev / math.sqrt(n)\n",
    "z = (sample_mean - theoretical_mean) / standard_error\n",
    "print(f\"Test Statistic (Z): {z:.2f}\")\n"
   ]
  },
  {
   "cell_type": "code",
   "execution_count": 5,
   "id": "31e97d88-9976-42d6-a833-8aaebea4d384",
   "metadata": {},
   "outputs": [
    {
     "name": "stdout",
     "output_type": "stream",
     "text": [
      "Critical Value (Z_critical): 1.64\n"
     ]
    }
   ],
   "source": [
    "# Critical Value :\n",
    "alpha = 0.05\n",
    "z_critical = norm.ppf(1 - alpha)\n",
    "print(f\"Critical Value (Z_critical): {z_critical:.2f}\")\n"
   ]
  },
  {
   "cell_type": "code",
   "execution_count": 6,
   "id": "01b2cd6c-e9f9-4c9d-926a-55db400da8d6",
   "metadata": {},
   "outputs": [
    {
     "name": "stdout",
     "output_type": "stream",
     "text": [
      "Fail to Reject the Null Hypothesis (H0)\n"
     ]
    }
   ],
   "source": [
    "# Decision :\n",
    "if z > z_critical:\n",
    "    print(\"Reject the Null Hypothesis (H0)\")\n",
    "else:\n",
    "    print(\"Fail to Reject the Null Hypothesis (H0)\")\n"
   ]
  },
  {
   "cell_type": "code",
   "execution_count": 7,
   "id": "ab7a60a9-2d45-41d8-9c0c-ec0e46ec6c9b",
   "metadata": {},
   "outputs": [
    {
     "name": "stdout",
     "output_type": "stream",
     "text": [
      "Conclusion: There is insufficient evidence to support the restaurant owners' claim that costs have increased.\n"
     ]
    }
   ],
   "source": [
    "# Conclusion :\n",
    "if z > z_critical:\n",
    "    conclusion = \"There is strong evidence to support the restaurant owners' claim that weekly operating costs are higher than the model suggests.\"\n",
    "else:\n",
    "    conclusion = \"There is insufficient evidence to support the restaurant owners' claim that costs have increased.\"\n",
    "print(\"Conclusion:\", conclusion)\n"
   ]
  },
  {
   "cell_type": "code",
   "execution_count": 8,
   "id": "522a556f-f694-4c8d-a85f-91d9dfcae6a1",
   "metadata": {},
   "outputs": [],
   "source": [
    "# From the given data we can conclude that conclude whether there is insufficient strong evidence to support the restaurant owners' \n",
    "# claim that the weekly operating costs are higher than the model suggests."
   ]
  },
  {
   "cell_type": "code",
   "execution_count": null,
   "id": "f6091538-36fb-4ccd-bb8a-34822c2d1aa3",
   "metadata": {},
   "outputs": [],
   "source": []
  },
  {
   "cell_type": "code",
   "execution_count": null,
   "id": "bf69c2d7-7686-41d7-9c97-c0e537e2880d",
   "metadata": {},
   "outputs": [],
   "source": []
  }
 ],
 "metadata": {
  "kernelspec": {
   "display_name": "Python [conda env:base] *",
   "language": "python",
   "name": "conda-base-py"
  },
  "language_info": {
   "codemirror_mode": {
    "name": "ipython",
    "version": 3
   },
   "file_extension": ".py",
   "mimetype": "text/x-python",
   "name": "python",
   "nbconvert_exporter": "python",
   "pygments_lexer": "ipython3",
   "version": "3.12.7"
  }
 },
 "nbformat": 4,
 "nbformat_minor": 5
}
